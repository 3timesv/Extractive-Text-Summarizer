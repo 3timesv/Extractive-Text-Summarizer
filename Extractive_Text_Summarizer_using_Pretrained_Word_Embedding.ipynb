{
  "nbformat": 4,
  "nbformat_minor": 0,
  "metadata": {
    "colab": {
      "name": "Extractive Text Summarizer using Pretrained Word Embedding.ipynb",
      "version": "0.3.2",
      "provenance": [],
      "collapsed_sections": [],
      "include_colab_link": true
    },
    "kernelspec": {
      "name": "python3",
      "display_name": "Python 3"
    },
    "accelerator": "GPU"
  },
  "cells": [
    {
      "cell_type": "markdown",
      "metadata": {
        "id": "view-in-github",
        "colab_type": "text"
      },
      "source": [
        "<a href=\"https://colab.research.google.com/github/vivekverma1019/Extractive-Text-Summarizer/blob/master/Extractive_Text_Summarizer_using_Pretrained_Word_Embedding.ipynb\" target=\"_parent\"><img src=\"https://colab.research.google.com/assets/colab-badge.svg\" alt=\"Open In Colab\"/></a>"
      ]
    },
    {
      "metadata": {
        "id": "LKxOgtMKiw7F",
        "colab_type": "text"
      },
      "cell_type": "markdown",
      "source": [
        "#### Import Required libraries"
      ]
    },
    {
      "metadata": {
        "id": "npMQsRy1igOs",
        "colab_type": "code",
        "outputId": "7365f6da-1b9d-4e30-cdd6-46dd24fd7806",
        "colab": {
          "base_uri": "https://localhost:8080/",
          "height": 51
        }
      },
      "cell_type": "code",
      "source": [
        "import numpy as np\n",
        "import pandas as pd\n",
        "import nltk\n",
        "nltk.download('punkt') # one time execution\n",
        "import re"
      ],
      "execution_count": 0,
      "outputs": [
        {
          "output_type": "stream",
          "text": [
            "[nltk_data] Downloading package punkt to /root/nltk_data...\n",
            "[nltk_data]   Package punkt is already up-to-date!\n"
          ],
          "name": "stdout"
        }
      ]
    },
    {
      "metadata": {
        "id": "nCAkjdzasrdb",
        "colab_type": "code",
        "colab": {}
      },
      "cell_type": "code",
      "source": [
        "import bs4 as bs  \n",
        "import urllib.request "
      ],
      "execution_count": 0,
      "outputs": []
    },
    {
      "metadata": {
        "id": "I1A8Ae1qjAJI",
        "colab_type": "text"
      },
      "cell_type": "markdown",
      "source": [
        "#### Read the data"
      ]
    },
    {
      "metadata": {
        "id": "z0p3qyNkuHv0",
        "colab_type": "code",
        "colab": {}
      },
      "cell_type": "code",
      "source": [
        "# Scrape and read the data from Wikipedia\n",
        "scraped_data = urllib.request.urlopen('https://en.wikipedia.org/wiki/Artificial_intelligence')  \n",
        "article = scraped_data.read()"
      ],
      "execution_count": 0,
      "outputs": []
    },
    {
      "metadata": {
        "id": "wM__ZiyEuNj0",
        "colab_type": "code",
        "colab": {}
      },
      "cell_type": "code",
      "source": [
        "# Parse the data\n",
        "parsed_article = bs.BeautifulSoup(article,'lxml')"
      ],
      "execution_count": 0,
      "outputs": []
    },
    {
      "metadata": {
        "id": "Y6ijs-UDuNwG",
        "colab_type": "code",
        "colab": {}
      },
      "cell_type": "code",
      "source": [
        "# Retrieve text from parsed_article\n",
        "paragraphs = parsed_article.find_all('p')  # Enclosed in <p> </p>"
      ],
      "execution_count": 0,
      "outputs": []
    },
    {
      "metadata": {
        "id": "DJJ_jOt-uOAG",
        "colab_type": "code",
        "colab": {}
      },
      "cell_type": "code",
      "source": [
        "# Combining paragraphs to recreate the article\n",
        "article_text = \"\"\n",
        "for p in paragraphs:  \n",
        "    article_text += p.text"
      ],
      "execution_count": 0,
      "outputs": []
    },
    {
      "metadata": {
        "id": "HcaCh50BuNf3",
        "colab_type": "code",
        "colab": {}
      },
      "cell_type": "code",
      "source": [
        "# Replaing Square brackets(refrences) with single space\n",
        "article_text = re.sub(r'\\[[0-9]*\\]', ' ', article_text)  "
      ],
      "execution_count": 0,
      "outputs": []
    },
    {
      "metadata": {
        "id": "OgN3h_YQujkt",
        "colab_type": "code",
        "colab": {}
      },
      "cell_type": "code",
      "source": [
        "# Replacing multiple spaces by single space\n",
        "article_text = re.sub(r'\\s+', ' ', article_text)"
      ],
      "execution_count": 0,
      "outputs": []
    },
    {
      "metadata": {
        "id": "S3HgOcjhujic",
        "colab_type": "code",
        "colab": {}
      },
      "cell_type": "code",
      "source": [
        "# Removing special characters and digits\n",
        "formatted_article_text = re.sub('[^a-zA-Z]', ' ', article_text )  \n",
        "formatted_article_text = re.sub(r'\\s+', ' ', formatted_article_text)  "
      ],
      "execution_count": 0,
      "outputs": []
    },
    {
      "metadata": {
        "id": "5gzq-rKFujf6",
        "colab_type": "code",
        "outputId": "94f75a74-6ca8-41ea-a394-be03fed8eb01",
        "colab": {
          "base_uri": "https://localhost:8080/",
          "height": 51
        }
      },
      "cell_type": "code",
      "source": [
        "import nltk\n",
        "nltk.download('punkt')\n",
        "sentences = nltk.sent_tokenize(article_text)  \n"
      ],
      "execution_count": 0,
      "outputs": [
        {
          "output_type": "stream",
          "text": [
            "[nltk_data] Downloading package punkt to /root/nltk_data...\n",
            "[nltk_data]   Package punkt is already up-to-date!\n"
          ],
          "name": "stdout"
        }
      ]
    },
    {
      "metadata": {
        "id": "U2yv5ZUkujaX",
        "colab_type": "code",
        "outputId": "1fcdc0df-4fac-416e-8c96-d3221cb65107",
        "colab": {
          "base_uri": "https://localhost:8080/",
          "height": 34
        }
      },
      "cell_type": "code",
      "source": [
        "len(sentences)"
      ],
      "execution_count": 0,
      "outputs": [
        {
          "output_type": "execute_result",
          "data": {
            "text/plain": [
              "541"
            ]
          },
          "metadata": {
            "tags": []
          },
          "execution_count": 79
        }
      ]
    },
    {
      "metadata": {
        "id": "BnnDR9B4ujW5",
        "colab_type": "code",
        "colab": {}
      },
      "cell_type": "code",
      "source": [
        ""
      ],
      "execution_count": 0,
      "outputs": []
    },
    {
      "metadata": {
        "id": "zu3rBXOjlR48",
        "colab_type": "text"
      },
      "cell_type": "markdown",
      "source": [
        "#### Download Glove Word Embeddings"
      ]
    },
    {
      "metadata": {
        "id": "hfxp2BYJlPzn",
        "colab_type": "code",
        "outputId": "eb8a2814-b4d7-4a97-b908-3a0bd91db841",
        "colab": {
          "base_uri": "https://localhost:8080/",
          "height": 357
        }
      },
      "cell_type": "code",
      "source": [
        "!wget http://nlp.stanford.edu/data/glove.6B.zip\n",
        "!unzip glove*.zip"
      ],
      "execution_count": 0,
      "outputs": [
        {
          "output_type": "stream",
          "text": [
            "--2019-04-30 14:55:17--  http://nlp.stanford.edu/data/glove.6B.zip\n",
            "Resolving nlp.stanford.edu (nlp.stanford.edu)... 171.64.67.140\n",
            "Connecting to nlp.stanford.edu (nlp.stanford.edu)|171.64.67.140|:80... connected.\n",
            "HTTP request sent, awaiting response... 302 Found\n",
            "Location: https://nlp.stanford.edu/data/glove.6B.zip [following]\n",
            "--2019-04-30 14:55:17--  https://nlp.stanford.edu/data/glove.6B.zip\n",
            "Connecting to nlp.stanford.edu (nlp.stanford.edu)|171.64.67.140|:443... connected.\n",
            "HTTP request sent, awaiting response... 200 OK\n",
            "Length: 862182613 (822M) [application/zip]\n",
            "Saving to: ‘glove.6B.zip.1’\n",
            "\n",
            "glove.6B.zip.1      100%[===================>] 822.24M  11.5MB/s    in 89s     \n",
            "\n",
            "2019-04-30 14:56:47 (9.22 MB/s) - ‘glove.6B.zip.1’ saved [862182613/862182613]\n",
            "\n",
            "Archive:  glove.6B.zip\n",
            "replace glove.6B.50d.txt? [y]es, [n]o, [A]ll, [N]one, [r]ename: n\n",
            "replace glove.6B.100d.txt? [y]es, [n]o, [A]ll, [N]one, [r]ename: n\n",
            "replace glove.6B.200d.txt? [y]es, [n]o, [A]ll, [N]one, [r]ename: n\n",
            "replace glove.6B.300d.txt? [y]es, [n]o, [A]ll, [N]one, [r]ename: n\n"
          ],
          "name": "stdout"
        }
      ]
    },
    {
      "metadata": {
        "id": "KaduNFeflXB-",
        "colab_type": "code",
        "colab": {}
      },
      "cell_type": "code",
      "source": [
        "# Extract word vectors\n",
        "word_embeddings = {}\n",
        "f = open('glove.6B.100d.txt', encoding='utf-8')\n",
        "for line in f:\n",
        "    values = line.split()\n",
        "    word = values[0]\n",
        "    coefs = np.asarray(values[1:], dtype='float32')\n",
        "    word_embeddings[word] = coefs\n",
        "f.close()"
      ],
      "execution_count": 0,
      "outputs": []
    },
    {
      "metadata": {
        "id": "-LoZtpKKmRQg",
        "colab_type": "code",
        "outputId": "397629d8-fd31-4a04-e3e4-fbce6716408b",
        "colab": {
          "base_uri": "https://localhost:8080/",
          "height": 34
        }
      },
      "cell_type": "code",
      "source": [
        "len(word_embeddings)"
      ],
      "execution_count": 0,
      "outputs": [
        {
          "output_type": "execute_result",
          "data": {
            "text/plain": [
              "400000"
            ]
          },
          "metadata": {
            "tags": []
          },
          "execution_count": 82
        }
      ]
    },
    {
      "metadata": {
        "id": "dQwIZ1MQmttb",
        "colab_type": "code",
        "outputId": "8b2e0f29-ae7a-4e66-c7cc-43e28e68c8af",
        "colab": {
          "base_uri": "https://localhost:8080/",
          "height": 374
        }
      },
      "cell_type": "code",
      "source": [
        "word_embeddings['water']"
      ],
      "execution_count": 0,
      "outputs": [
        {
          "output_type": "execute_result",
          "data": {
            "text/plain": [
              "array([-0.5525   ,  0.80299  ,  0.24846  , -0.19954  ,  0.10702  ,\n",
              "       -0.32201  ,  0.29462  ,  1.025    ,  0.12184  , -0.27206  ,\n",
              "        0.12932  ,  0.10462  , -0.16654  ,  0.16812  ,  0.22872  ,\n",
              "       -1.3154   , -0.081805 , -0.33495  , -0.42493  , -0.51661  ,\n",
              "       -0.75545  ,  0.48928  ,  0.37171  , -0.089842 , -0.081205 ,\n",
              "        0.6586   , -1.0971   , -0.35931  , -0.38722  ,  0.10288  ,\n",
              "       -0.20377  , -0.12213  , -0.19528  ,  0.19447  , -0.2256   ,\n",
              "        0.18176  , -0.093331 ,  0.49025  ,  0.067357 ,  0.17799  ,\n",
              "       -0.46447  , -1.0855   , -1.144    , -1.0351   ,  1.2463   ,\n",
              "        1.0647   , -0.98562  , -0.10586  , -0.21731  , -0.56261  ,\n",
              "       -0.042496 ,  0.15401  ,  0.67673  ,  1.375    , -0.33502  ,\n",
              "       -2.21     ,  0.045662 ,  0.031881 ,  2.0783   ,  0.22467  ,\n",
              "        0.091217 ,  0.1973   , -0.082423 ,  1.0019   ,  1.3352   ,\n",
              "        0.70781  ,  0.72513  , -1.3358   ,  0.68266  , -1.0511   ,\n",
              "       -0.14352  , -0.27483  ,  1.0577   ,  0.34072  ,  0.61653  ,\n",
              "        0.23615  ,  0.3205   , -0.091568 , -0.57704  ,  0.60387  ,\n",
              "        1.0691   ,  0.12117  , -0.98317  ,  0.83128  , -0.74156  ,\n",
              "        0.401    ,  0.16673  ,  0.0153   ,  0.25616  ,  0.3364   ,\n",
              "        0.43407  , -0.62837  , -0.98157  ,  0.0042248, -0.39847  ,\n",
              "        0.21771  , -0.88988  , -0.17269  ,  0.67932  ,  0.34972  ],\n",
              "      dtype=float32)"
            ]
          },
          "metadata": {
            "tags": []
          },
          "execution_count": 83
        }
      ]
    },
    {
      "metadata": {
        "id": "v4pbnq4knNYe",
        "colab_type": "text"
      },
      "cell_type": "markdown",
      "source": [
        "#### Text Preprocessing"
      ]
    },
    {
      "metadata": {
        "id": "tBlhp723nP32",
        "colab_type": "code",
        "colab": {}
      },
      "cell_type": "code",
      "source": [
        "# remove punctuations, numbers and special characters\n",
        "clean_sentences = pd.Series(sentences).str.replace(\"[^a-zA-Z]\", \" \")\n",
        "\n",
        "# make alphabets lowercase\n",
        "clean_sentences = [s.lower() for s in clean_sentences]"
      ],
      "execution_count": 0,
      "outputs": []
    },
    {
      "metadata": {
        "id": "0VRkJTwjnWwr",
        "colab_type": "code",
        "outputId": "369d23a9-8533-42c6-c599-3b6f25b97790",
        "colab": {
          "base_uri": "https://localhost:8080/",
          "height": 68
        }
      },
      "cell_type": "code",
      "source": [
        "nltk.download('stopwords')"
      ],
      "execution_count": 0,
      "outputs": [
        {
          "output_type": "stream",
          "text": [
            "[nltk_data] Downloading package stopwords to /root/nltk_data...\n",
            "[nltk_data]   Package stopwords is already up-to-date!\n"
          ],
          "name": "stdout"
        },
        {
          "output_type": "execute_result",
          "data": {
            "text/plain": [
              "True"
            ]
          },
          "metadata": {
            "tags": []
          },
          "execution_count": 85
        }
      ]
    },
    {
      "metadata": {
        "id": "2SaIq_ChnchI",
        "colab_type": "code",
        "colab": {}
      },
      "cell_type": "code",
      "source": [
        "from nltk.corpus import stopwords\n",
        "stop_words = stopwords.words('english')"
      ],
      "execution_count": 0,
      "outputs": []
    },
    {
      "metadata": {
        "id": "R_xiyCk4niBc",
        "colab_type": "code",
        "colab": {}
      },
      "cell_type": "code",
      "source": [
        "# function to remove stopwords\n",
        "def remove_stopwords(sen):\n",
        "    sen_new = \" \".join([i for i in sen if i not in stop_words])\n",
        "    return sen_new"
      ],
      "execution_count": 0,
      "outputs": []
    },
    {
      "metadata": {
        "id": "sv3RvogLnyEl",
        "colab_type": "code",
        "colab": {}
      },
      "cell_type": "code",
      "source": [
        "# remove stopwords from the sentences\n",
        "clean_sentences = [remove_stopwords(r.split()) for r in clean_sentences]"
      ],
      "execution_count": 0,
      "outputs": []
    },
    {
      "metadata": {
        "id": "y3q8k9CUpoZb",
        "colab_type": "text"
      },
      "cell_type": "markdown",
      "source": [
        "#### Vector Representation of Sentences"
      ]
    },
    {
      "metadata": {
        "id": "dfU6S7BhobRo",
        "colab_type": "code",
        "colab": {}
      },
      "cell_type": "code",
      "source": [
        "sentence_vectors = []\n",
        "for i in clean_sentences:\n",
        "  if len(i) != 0:\n",
        "    v = sum([word_embeddings.get(w, np.zeros((100,))) for w in i.split()])/(len(i.split())+0.001)\n",
        "  else:\n",
        "    v = np.zeros((100,))\n",
        "  sentence_vectors.append(v)"
      ],
      "execution_count": 0,
      "outputs": []
    },
    {
      "metadata": {
        "id": "i9IUERHVpMtF",
        "colab_type": "code",
        "outputId": "50bfa9ba-5bc0-4e71-c71c-57018fa0d935",
        "colab": {
          "base_uri": "https://localhost:8080/",
          "height": 34
        }
      },
      "cell_type": "code",
      "source": [
        "len(clean_sentences)"
      ],
      "execution_count": 0,
      "outputs": [
        {
          "output_type": "execute_result",
          "data": {
            "text/plain": [
              "541"
            ]
          },
          "metadata": {
            "tags": []
          },
          "execution_count": 90
        }
      ]
    },
    {
      "metadata": {
        "id": "Ps07Kq3toobU",
        "colab_type": "code",
        "outputId": "59c531e8-2b85-427a-f43a-f1d4a21e0f99",
        "colab": {
          "base_uri": "https://localhost:8080/",
          "height": 34
        }
      },
      "cell_type": "code",
      "source": [
        "len(sentence_vectors)"
      ],
      "execution_count": 0,
      "outputs": [
        {
          "output_type": "execute_result",
          "data": {
            "text/plain": [
              "541"
            ]
          },
          "metadata": {
            "tags": []
          },
          "execution_count": 91
        }
      ]
    },
    {
      "metadata": {
        "id": "YuUE_zlxqAr0",
        "colab_type": "text"
      },
      "cell_type": "markdown",
      "source": [
        "#### Similarity Matrix"
      ]
    },
    {
      "metadata": {
        "id": "ACHLpZMZpxiJ",
        "colab_type": "code",
        "colab": {}
      },
      "cell_type": "code",
      "source": [
        "# similarity matrix\n",
        "sim_mat = np.zeros([len(sentences), len(sentences)])"
      ],
      "execution_count": 0,
      "outputs": []
    },
    {
      "metadata": {
        "id": "5UK3hyMkosyJ",
        "colab_type": "code",
        "colab": {}
      },
      "cell_type": "code",
      "source": [
        "from sklearn.metrics.pairwise import cosine_similarity"
      ],
      "execution_count": 0,
      "outputs": []
    },
    {
      "metadata": {
        "id": "c4bQoG-DqTKX",
        "colab_type": "code",
        "colab": {}
      },
      "cell_type": "code",
      "source": [
        "for i in range(len(sentences)):\n",
        "  for j in range(len(sentences)):\n",
        "    if i != j:\n",
        "      sim_mat[i][j] = cosine_similarity(sentence_vectors[i].reshape(1,100), sentence_vectors[j].reshape(1,100))[0,0]"
      ],
      "execution_count": 0,
      "outputs": []
    },
    {
      "metadata": {
        "id": "buqsbMbHrtuv",
        "colab_type": "text"
      },
      "cell_type": "markdown",
      "source": [
        "#### Applying PageRank Algorithm"
      ]
    },
    {
      "metadata": {
        "id": "3wGuiIWmqoT-",
        "colab_type": "code",
        "colab": {}
      },
      "cell_type": "code",
      "source": [
        "import networkx as nx\n",
        "\n",
        "nx_graph = nx.from_numpy_array(sim_mat)\n",
        "scores = nx.pagerank(nx_graph)"
      ],
      "execution_count": 0,
      "outputs": []
    },
    {
      "metadata": {
        "id": "ssQ66zOHr_ON",
        "colab_type": "text"
      },
      "cell_type": "markdown",
      "source": [
        "#### Summary Extraction"
      ]
    },
    {
      "metadata": {
        "id": "ttwmet2ZsBSv",
        "colab_type": "code",
        "colab": {}
      },
      "cell_type": "code",
      "source": [
        "ranked_sentences = sorted(((scores[i],s) for i,s in enumerate(sentences)), reverse=True)"
      ],
      "execution_count": 0,
      "outputs": []
    },
    {
      "metadata": {
        "id": "xJHif-Q_0iZD",
        "colab_type": "code",
        "outputId": "04e2674b-c6c1-4a30-d42c-31faad94f260",
        "colab": {
          "base_uri": "https://localhost:8080/",
          "height": 54
        }
      },
      "cell_type": "code",
      "source": [
        "ranked_sentences[1][1]"
      ],
      "execution_count": 0,
      "outputs": [
        {
          "output_type": "execute_result",
          "data": {
            "text/plain": [
              "'Some of the \"learners\" described below, including Bayesian networks, decision trees, and nearest-neighbor, could theoretically, (given infinite data, time, and memory) learn to approximate any function, including which combination of mathematical functions would best describe the world.'"
            ]
          },
          "metadata": {
            "tags": []
          },
          "execution_count": 119
        }
      ]
    },
    {
      "metadata": {
        "id": "SJCnfRvssQrd",
        "colab_type": "code",
        "colab": {}
      },
      "cell_type": "code",
      "source": [
        "# Extract top 7 sentences as the summary\n",
        "extraction = []\n",
        "for i in range(7):\n",
        "  extraction.append(ranked_sentences[i][1])"
      ],
      "execution_count": 0,
      "outputs": []
    },
    {
      "metadata": {
        "id": "29MQDfrXxK6E",
        "colab_type": "code",
        "colab": {}
      },
      "cell_type": "code",
      "source": [
        "summary = \" \".join(extraction)"
      ],
      "execution_count": 0,
      "outputs": []
    },
    {
      "metadata": {
        "id": "IyR98LSasW_C",
        "colab_type": "code",
        "outputId": "40bfd62c-cbca-4eb0-8a41-6d367b8ae7f4",
        "colab": {
          "base_uri": "https://localhost:8080/",
          "height": 122
        }
      },
      "cell_type": "code",
      "source": [
        "from google.colab import drive\n",
        "drive.mount('/content/gdrive')"
      ],
      "execution_count": 0,
      "outputs": [
        {
          "output_type": "stream",
          "text": [
            "Go to this URL in a browser: https://accounts.google.com/o/oauth2/auth?client_id=947318989803-6bn6qk8qdgf4n4g3pfee6491hc0brc4i.apps.googleusercontent.com&redirect_uri=urn%3Aietf%3Awg%3Aoauth%3A2.0%3Aoob&scope=email%20https%3A%2F%2Fwww.googleapis.com%2Fauth%2Fdocs.test%20https%3A%2F%2Fwww.googleapis.com%2Fauth%2Fdrive%20https%3A%2F%2Fwww.googleapis.com%2Fauth%2Fdrive.photos.readonly%20https%3A%2F%2Fwww.googleapis.com%2Fauth%2Fpeopleapi.readonly&response_type=code\n",
            "\n",
            "Enter your authorization code:\n",
            "··········\n",
            "Mounted at /content/gdrive\n"
          ],
          "name": "stdout"
        }
      ]
    },
    {
      "metadata": {
        "id": "W3gOo-2mwk2L",
        "colab_type": "code",
        "colab": {}
      },
      "cell_type": "code",
      "source": [
        "text_file = open(\"Text_summarization_2.txt\", \"w\")\n",
        "text_file.write('Text '+str((len(article_text.split())))+' :\\n' + article_text + '\\n\\nSummary '+str(len(summary.split()))+' :\\n' + summary)\n",
        "text_file.close()"
      ],
      "execution_count": 0,
      "outputs": []
    },
    {
      "metadata": {
        "id": "Ev_cWjZXw69h",
        "colab_type": "code",
        "outputId": "5fc392aa-f9b7-4e15-bc36-1da717f281d3",
        "colab": {
          "base_uri": "https://localhost:8080/",
          "height": 34
        }
      },
      "cell_type": "code",
      "source": [
        "import os\n",
        "os.getcwd()"
      ],
      "execution_count": 0,
      "outputs": [
        {
          "output_type": "execute_result",
          "data": {
            "text/plain": [
              "'/content'"
            ]
          },
          "metadata": {
            "tags": []
          },
          "execution_count": 107
        }
      ]
    },
    {
      "metadata": {
        "id": "9XNJKhZeykpM",
        "colab_type": "code",
        "outputId": "4e3802d6-5177-4429-afa4-eb8597edde4c",
        "colab": {
          "base_uri": "https://localhost:8080/",
          "height": 204
        }
      },
      "cell_type": "code",
      "source": [
        "os.listdir()"
      ],
      "execution_count": 0,
      "outputs": [
        {
          "output_type": "execute_result",
          "data": {
            "text/plain": [
              "['.config',\n",
              " 'glove.6B.100d.txt',\n",
              " 'Text_summarization_2.txt',\n",
              " 'glove.6B.zip',\n",
              " 'glove.6B.50d.txt',\n",
              " 'glove.6B.200d.txt',\n",
              " 'glove.6B.300d.txt',\n",
              " 'gdrive',\n",
              " 'glove.6B.zip.1',\n",
              " 'tennis_articles_v4.csv',\n",
              " 'sample_data']"
            ]
          },
          "metadata": {
            "tags": []
          },
          "execution_count": 108
        }
      ]
    },
    {
      "metadata": {
        "id": "ITcSYuRhzCQs",
        "colab_type": "code",
        "colab": {}
      },
      "cell_type": "code",
      "source": [
        "os.chdir('/content/gdrive/My Drive/')"
      ],
      "execution_count": 0,
      "outputs": []
    },
    {
      "metadata": {
        "id": "U0VrrKMZzEcK",
        "colab_type": "code",
        "outputId": "ae29235f-4f2b-42f7-fc27-e4d3d554ab38",
        "colab": {
          "base_uri": "https://localhost:8080/",
          "height": 34
        }
      },
      "cell_type": "code",
      "source": [
        "os.getcwd()"
      ],
      "execution_count": 0,
      "outputs": [
        {
          "output_type": "execute_result",
          "data": {
            "text/plain": [
              "'/content/gdrive/My Drive'"
            ]
          },
          "metadata": {
            "tags": []
          },
          "execution_count": 110
        }
      ]
    },
    {
      "metadata": {
        "id": "RaiMAmUVzKQX",
        "colab_type": "code",
        "colab": {}
      },
      "cell_type": "code",
      "source": [
        "text_file = open(\"Text_summarization_2.txt\", \"w\")\n",
        "text_file.write('Text '+str((len(article_text.split())))+' :\\n' + article_text + '\\n\\nSummary '+str(len(summary[0].split()))+' :\\n' + summary[0])\n",
        "text_file.close()"
      ],
      "execution_count": 0,
      "outputs": []
    },
    {
      "metadata": {
        "id": "qJwQq-NUzKy5",
        "colab_type": "code",
        "colab": {}
      },
      "cell_type": "code",
      "source": [
        ""
      ],
      "execution_count": 0,
      "outputs": []
    }
  ]
}